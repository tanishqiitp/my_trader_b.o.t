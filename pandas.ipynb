{
 "cells": [
  {
   "cell_type": "code",
   "execution_count": 25,
   "id": "207193ea",
   "metadata": {},
   "outputs": [],
   "source": [
    "\n",
    "\n",
    "import pandas as pd\n",
    "        "
   ]
  },
  {
   "cell_type": "code",
   "execution_count": 26,
   "id": "5c40ca6d",
   "metadata": {},
   "outputs": [],
   "source": [
    "df = pd.read_excel(\"C:/Users/ertan/sem 5 ki backchodi/important notes/Product-Sales-Region.xlsx\")\n"
   ]
  },
  {
   "cell_type": "code",
   "execution_count": 27,
   "id": "7eb75119",
   "metadata": {},
   "outputs": [
    {
     "name": "stdout",
     "output_type": "stream",
     "text": [
      "(1500, 19)\n"
     ]
    }
   ],
   "source": [
    "print(df.shape)       # rows, cols\n"
   ]
  },
  {
   "cell_type": "code",
   "execution_count": 28,
   "id": "97e400ed",
   "metadata": {},
   "outputs": [
    {
     "name": "stdout",
     "output_type": "stream",
     "text": [
      "Index(['Date', 'Region', 'Product', 'Quantity', 'UnitPrice', 'StoreLocation',\n",
      "       'CustomerType', 'Discount', 'Salesperson', 'TotalPrice',\n",
      "       'PaymentMethod', 'Promotion', 'Returned', 'OrderID', 'CustomerName',\n",
      "       'ShippingCost', 'OrderDate', 'DeliveryDate', 'RegionManager'],\n",
      "      dtype='object')\n"
     ]
    }
   ],
   "source": [
    "\n",
    "print(df.columns)     # column names\n"
   ]
  },
  {
   "cell_type": "code",
   "execution_count": 29,
   "id": "287838b9",
   "metadata": {},
   "outputs": [
    {
     "name": "stdout",
     "output_type": "stream",
     "text": [
      "<class 'pandas.core.frame.DataFrame'>\n",
      "RangeIndex: 1500 entries, 0 to 1499\n",
      "Data columns (total 19 columns):\n",
      " #   Column         Non-Null Count  Dtype         \n",
      "---  ------         --------------  -----         \n",
      " 0   Date           1500 non-null   datetime64[ns]\n",
      " 1   Region         1500 non-null   object        \n",
      " 2   Product        1500 non-null   object        \n",
      " 3   Quantity       1500 non-null   int64         \n",
      " 4   UnitPrice      1500 non-null   float64       \n",
      " 5   StoreLocation  1500 non-null   object        \n",
      " 6   CustomerType   1500 non-null   object        \n",
      " 7   Discount       1500 non-null   float64       \n",
      " 8   Salesperson    1500 non-null   object        \n",
      " 9   TotalPrice     1500 non-null   float64       \n",
      " 10  PaymentMethod  1500 non-null   object        \n",
      " 11  Promotion      1130 non-null   object        \n",
      " 12  Returned       1500 non-null   int64         \n",
      " 13  OrderID        1500 non-null   object        \n",
      " 14  CustomerName   1500 non-null   object        \n",
      " 15  ShippingCost   1500 non-null   float64       \n",
      " 16  OrderDate      1500 non-null   datetime64[ns]\n",
      " 17  DeliveryDate   1500 non-null   datetime64[ns]\n",
      " 18  RegionManager  1500 non-null   object        \n",
      "dtypes: datetime64[ns](3), float64(4), int64(2), object(10)\n",
      "memory usage: 222.8+ KB\n",
      "None\n"
     ]
    }
   ],
   "source": [
    "\n",
    "print(df.info())      # datatypes + missing values\n"
   ]
  },
  {
   "cell_type": "code",
   "execution_count": 30,
   "id": "8bf6ad3d",
   "metadata": {},
   "outputs": [
    {
     "name": "stdout",
     "output_type": "stream",
     "text": [
      "        Date   Region Product  Quantity  UnitPrice StoreLocation CustomerType  \\\n",
      "0 2023-02-23     East  Laptop        14     163.60       Store B    Wholesale   \n",
      "1 2024-12-19    South   Phone         1     544.01       Store A       Retail   \n",
      "2 2023-05-10    North    Desk        14     346.18       Store B    Wholesale   \n",
      "3 2025-02-26  Central   Chair        18     384.82       Store A    Wholesale   \n",
      "4 2023-06-24     East    Desk        18     237.76       Store C       Retail   \n",
      "\n",
      "   Discount Salesperson  TotalPrice PaymentMethod Promotion  Returned  \\\n",
      "0      0.00         Eva    2290.400        Online  FREESHIP         0   \n",
      "1      0.00       Alice     544.010     Gift Card    SAVE10         0   \n",
      "2      0.10       Alice    4361.868        Online  WINTER15         0   \n",
      "3      0.15       Frank    5887.746     Gift Card  FREESHIP         0   \n",
      "4      0.00      Carlos    4279.680        Online    SAVE10         0   \n",
      "\n",
      "     OrderID CustomerName  ShippingCost  OrderDate DeliveryDate RegionManager  \n",
      "0  REG100000    Cust 6583         43.34 2023-02-23   2023-02-27          Eric  \n",
      "1  REG100001    Cust 2144          5.30 2024-12-19   2024-12-28        Sophie  \n",
      "2  REG100002    Cust 5998         20.46 2023-05-10   2023-05-19          Ryan  \n",
      "3  REG100003    Cust 7136         27.95 2025-02-26   2025-03-02       Cameron  \n",
      "4  REG100004    Cust 6506          5.73 2023-06-24   2023-06-27          Eric  \n"
     ]
    }
   ],
   "source": [
    "\n",
    "print(df.head())      # first 5 rows\n"
   ]
  },
  {
   "cell_type": "code",
   "execution_count": 31,
   "id": "4c6d7030",
   "metadata": {},
   "outputs": [
    {
     "name": "stdout",
     "output_type": "stream",
     "text": [
      "Date               0\n",
      "Region             0\n",
      "Product            0\n",
      "Quantity           0\n",
      "UnitPrice          0\n",
      "StoreLocation      0\n",
      "CustomerType       0\n",
      "Discount           0\n",
      "Salesperson        0\n",
      "TotalPrice         0\n",
      "PaymentMethod      0\n",
      "Promotion        370\n",
      "Returned           0\n",
      "OrderID            0\n",
      "CustomerName       0\n",
      "ShippingCost       0\n",
      "OrderDate          0\n",
      "DeliveryDate       0\n",
      "RegionManager      0\n",
      "dtype: int64\n"
     ]
    }
   ],
   "source": [
    "print(df.isnull().sum())\n"
   ]
  },
  {
   "cell_type": "code",
   "execution_count": 32,
   "id": "700f7bad",
   "metadata": {},
   "outputs": [
    {
     "name": "stdout",
     "output_type": "stream",
     "text": [
      "0\n"
     ]
    }
   ],
   "source": [
    "print(df.duplicated().sum())\n",
    "df.drop_duplicates(inplace=True)\n",
    "\n",
    "df[\"OrderDate\"] = pd.to_datetime(df[\"OrderDate\"] , format=\"%d-%m-%Y\" , errors=\"coerce\")\n",
    "df[\"DeliveryDate\"] = pd.to_datetime(df[\"DeliveryDate\"] , format=\"%d-%m-%Y\" , errors=\"coerce\")"
   ]
  },
  {
   "cell_type": "code",
   "execution_count": 33,
   "id": "fdb83570",
   "metadata": {},
   "outputs": [],
   "source": [
    "# Revenue after discount\n",
    "df[\"NetRevenue\"] = (df[\"Quantity\"] * df[\"UnitPrice\"]) - df[\"Discount\"]\n",
    "\n"
   ]
  },
  {
   "cell_type": "code",
   "execution_count": 34,
   "id": "b1fa042c",
   "metadata": {},
   "outputs": [],
   "source": [
    "\n",
    "\n",
    "# Profit (Revenue - Shipping Cost)\n",
    "df[\"Profit\"] = df[\"NetRevenue\"] - df[\"ShippingCost\"]\n"
   ]
  },
  {
   "cell_type": "code",
   "execution_count": 35,
   "id": "4cb7c05e",
   "metadata": {},
   "outputs": [],
   "source": [
    "\n",
    "# Delivery Time in Days\n",
    "df[\"DeliveryTime\"] = (df[\"DeliveryDate\"] - df[\"Date\"]).dt.days\n"
   ]
  },
  {
   "cell_type": "code",
   "execution_count": 36,
   "id": "9aa2b693",
   "metadata": {},
   "outputs": [],
   "source": [
    "df[\"Region\"] = df[\"Region\"].str.strip().str.title()\n",
    "df[\"Product\"] = df[\"Product\"].str.strip()\n",
    "df[\"CustomerName\"] = df[\"CustomerName\"].str.title()\n"
   ]
  },
  {
   "cell_type": "code",
   "execution_count": 37,
   "id": "ddc92cc2",
   "metadata": {},
   "outputs": [
    {
     "name": "stdout",
     "output_type": "stream",
     "text": [
      "                                 Date Region Product     Quantity  \\\n",
      "count                            1500   1500    1500  1500.000000   \n",
      "unique                            NaN      5       7          NaN   \n",
      "top                               NaN   East  Tablet          NaN   \n",
      "freq                              NaN    311     240          NaN   \n",
      "mean    2024-04-07 21:35:02.400000256    NaN     NaN    10.410667   \n",
      "min               2023-01-01 00:00:00    NaN     NaN     1.000000   \n",
      "25%               2023-08-20 00:00:00    NaN     NaN     5.000000   \n",
      "50%               2024-04-08 12:00:00    NaN     NaN    11.000000   \n",
      "75%               2024-12-07 06:00:00    NaN     NaN    15.000000   \n",
      "max               2025-06-30 00:00:00    NaN     NaN    20.000000   \n",
      "std                               NaN    NaN     NaN     5.735732   \n",
      "\n",
      "          UnitPrice StoreLocation CustomerType     Discount Salesperson  \\\n",
      "count   1500.000000          1500         1500  1500.000000        1500   \n",
      "unique          NaN             4            2          NaN           6   \n",
      "top             NaN       Store D    Wholesale          NaN      Carlos   \n",
      "freq            NaN           400          756          NaN         270   \n",
      "mean     298.826947           NaN          NaN     0.073133         NaN   \n",
      "min        5.520000           NaN          NaN     0.000000         NaN   \n",
      "25%      151.020000           NaN          NaN     0.000000         NaN   \n",
      "50%      294.740000           NaN          NaN     0.050000         NaN   \n",
      "75%      446.702500           NaN          NaN     0.100000         NaN   \n",
      "max      599.720000           NaN          NaN     0.150000         NaN   \n",
      "std      169.100075           NaN          NaN     0.055979         NaN   \n",
      "\n",
      "          TotalPrice  ...     Returned    OrderID  CustomerName ShippingCost  \\\n",
      "count    1500.000000  ...  1500.000000       1500          1500  1500.000000   \n",
      "unique           NaN  ...          NaN       1500          1371          NaN   \n",
      "top              NaN  ...          NaN  REG100000     Cust 8150          NaN   \n",
      "freq             NaN  ...          NaN          1             4          NaN   \n",
      "mean     2919.994952  ...     0.248000        NaN           NaN    27.507293   \n",
      "min         6.970000  ...     0.000000        NaN           NaN     5.010000   \n",
      "25%       867.136250  ...     0.000000        NaN           NaN    16.700000   \n",
      "50%      2174.724000  ...     0.000000        NaN           NaN    27.100000   \n",
      "75%      4414.723500  ...     0.000000        NaN           NaN    38.635000   \n",
      "max     11077.000000  ...     1.000000        NaN           NaN    49.980000   \n",
      "std      2522.789977  ...     0.431996        NaN           NaN    13.093453   \n",
      "\n",
      "                            OrderDate                   DeliveryDate  \\\n",
      "count                            1500                           1500   \n",
      "unique                            NaN                            NaN   \n",
      "top                               NaN                            NaN   \n",
      "freq                              NaN                            NaN   \n",
      "mean    2024-04-07 21:35:02.400000256  2024-04-13 22:36:28.799999744   \n",
      "min               2023-01-01 00:00:00            2023-01-08 00:00:00   \n",
      "25%               2023-08-20 00:00:00            2023-08-25 12:00:00   \n",
      "50%               2024-04-08 12:00:00            2024-04-15 12:00:00   \n",
      "75%               2024-12-07 06:00:00            2024-12-13 06:00:00   \n",
      "max               2025-06-30 00:00:00            2025-07-10 00:00:00   \n",
      "std                               NaN                            NaN   \n",
      "\n",
      "       RegionManager    NetRevenue        Profit  DeliveryTime  \n",
      "count           1500   1500.000000   1500.000000   1500.000000  \n",
      "unique             5           NaN           NaN           NaN  \n",
      "top             Eric           NaN           NaN           NaN  \n",
      "freq             311           NaN           NaN           NaN  \n",
      "mean             NaN   3151.855493   3124.348200      6.042667  \n",
      "min              NaN      8.050000    -34.960000      2.000000  \n",
      "25%              NaN    917.137500    894.407500      4.000000  \n",
      "50%              NaN   2348.290000   2322.300000      6.000000  \n",
      "75%              NaN   4747.235000   4725.862500      8.000000  \n",
      "max              NaN  11525.950000  11500.730000     10.000000  \n",
      "std              NaN   2712.311541   2712.473904      2.539254  \n",
      "\n",
      "[11 rows x 22 columns]\n"
     ]
    }
   ],
   "source": [
    "print(df.describe(include=\"all\"))\n"
   ]
  },
  {
   "cell_type": "code",
   "execution_count": 38,
   "id": "65fd5421",
   "metadata": {},
   "outputs": [
    {
     "name": "stdout",
     "output_type": "stream",
     "text": [
      "4727783.24\n"
     ]
    }
   ],
   "source": [
    "# Total Revenue\n",
    "print(df[\"NetRevenue\"].sum())\n"
   ]
  },
  {
   "cell_type": "code",
   "execution_count": 39,
   "id": "fc76b386",
   "metadata": {},
   "outputs": [
    {
     "name": "stdout",
     "output_type": "stream",
     "text": [
      "4686522.3\n"
     ]
    }
   ],
   "source": [
    "\n",
    "# Total Profit\n",
    "print(df[\"Profit\"].sum())\n"
   ]
  },
  {
   "cell_type": "code",
   "execution_count": 40,
   "id": "4da0e9ba",
   "metadata": {},
   "outputs": [
    {
     "name": "stdout",
     "output_type": "stream",
     "text": [
      "Returned\n",
      "0    75.2\n",
      "1    24.8\n",
      "Name: proportion, dtype: float64\n"
     ]
    }
   ],
   "source": [
    "\n",
    "# Return Rate\n",
    "print(df[\"Returned\"].value_counts(normalize=True) * 100)\n"
   ]
  },
  {
   "cell_type": "code",
   "execution_count": 41,
   "id": "8eefcede",
   "metadata": {},
   "outputs": [
    {
     "name": "stdout",
     "output_type": "stream",
     "text": [
      "Region   Product\n",
      "North    Monitor    190010.24\n",
      "         Desk       183614.37\n",
      "Central  Tablet     176269.16\n",
      "South    Laptop     171950.37\n",
      "North    Tablet     171806.43\n",
      "South    Chair      162069.56\n",
      "West     Tablet     161466.72\n",
      "East     Printer    160344.96\n",
      "West     Printer    158324.29\n",
      "         Monitor    158060.37\n",
      "Name: NetRevenue, dtype: float64\n"
     ]
    }
   ],
   "source": [
    "region_category = (\n",
    "    df.groupby([\"Region\", \"Product\"])[\"NetRevenue\"]\n",
    "      .sum()\n",
    "      .sort_values(ascending=False)\n",
    ")\n",
    "print(region_category.head(10))\n"
   ]
  },
  {
   "cell_type": "code",
   "execution_count": 42,
   "id": "590d0f0b",
   "metadata": {},
   "outputs": [
    {
     "name": "stdout",
     "output_type": "stream",
     "text": [
      "Product                   Chair      Desk    Laptop   Monitor     Phone  \\\n",
      "Region  StoreLocation                                                     \n",
      "Central Store A        46136.24  20303.27  51212.70  32715.38   6259.70   \n",
      "        Store B        12627.04  31052.75  28656.10  13591.94  26498.62   \n",
      "        Store C        26583.74  32926.71  32477.61  21788.83  14338.31   \n",
      "        Store D        35249.24  36814.73  38055.70  49031.10  29976.23   \n",
      "East    Store A        31410.31  44447.49  24189.34  36291.99  43171.70   \n",
      "        Store B        43564.66  41647.96  28371.13  26840.39  43603.93   \n",
      "        Store C         6419.35  18380.60  49900.56  20288.99  24561.82   \n",
      "        Store D        32794.44  22720.41  41699.74  45626.46  46015.13   \n",
      "North   Store A        18789.30  32654.36  36867.78  31718.23  15253.03   \n",
      "        Store B        39468.18  64998.86  14944.13  17724.40  14090.92   \n",
      "        Store C        44484.02  36828.06  51322.97  69038.37  26366.54   \n",
      "        Store D        45897.54  49133.09  27213.91  71529.24  30825.30   \n",
      "South   Store A        58054.73  19027.95  47206.26  26992.36  27955.60   \n",
      "        Store B        37543.51  20529.82  47011.47  14001.92  56025.23   \n",
      "        Store C        33800.69  14410.39  21995.96  47698.45  23599.24   \n",
      "        Store D        32670.63  20180.19  55736.68  20665.28  24498.18   \n",
      "West    Store A        57704.09  14234.94  20978.47  30623.96  37927.76   \n",
      "        Store B        15000.39  21283.01  26135.90  33194.62  22600.22   \n",
      "        Store C        38782.38  26411.45  35651.66  29589.31  10994.45   \n",
      "        Store D        12384.34  34043.85  57490.09  64652.48  12037.32   \n",
      "\n",
      "Product                 Printer    Tablet  \n",
      "Region  StoreLocation                      \n",
      "Central Store A        36375.74  36081.49  \n",
      "        Store B        48642.80  45189.29  \n",
      "        Store C        52678.71  34509.63  \n",
      "        Store D        14502.28  60488.75  \n",
      "East    Store A        67708.45   7840.86  \n",
      "        Store B        19419.47  31912.48  \n",
      "        Store C        64624.87  32115.38  \n",
      "        Store D         8592.17  43181.13  \n",
      "North   Store A        30309.66  46467.05  \n",
      "        Store B        25340.88  62240.95  \n",
      "        Store C        50469.71  32027.44  \n",
      "        Store D        33983.52  31070.99  \n",
      "South   Store A        49210.97  11363.60  \n",
      "        Store B        32143.24  26851.20  \n",
      "        Store C        20184.89  37719.26  \n",
      "        Store D        30977.91  35051.66  \n",
      "West    Store A        31365.41  43566.83  \n",
      "        Store B        44941.68  34584.90  \n",
      "        Store C        31285.79  25234.14  \n",
      "        Store D        50731.41  58080.85  \n"
     ]
    }
   ],
   "source": [
    "pivot = df.pivot_table(\n",
    "    values=\"NetRevenue\",\n",
    "    index=[\"Region\", \"StoreLocation\"],   # multi-level rows\n",
    "    columns=\"Product\",\n",
    "    aggfunc=\"sum\"\n",
    ")\n",
    "print(pivot)\n"
   ]
  },
  {
   "cell_type": "code",
   "execution_count": 43,
   "id": "ec9c3b93",
   "metadata": {},
   "outputs": [],
   "source": [
    "\n",
    "\n",
    "# Option B: Based on Quantity\n",
    "df[\"Segment\"] = pd.cut(\n",
    "    df[\"Quantity\"],\n",
    "    bins=[0, 5, 15, float(\"inf\")],\n",
    "    labels=[\"Small Order\", \"Medium Order\", \"Large Order\"]\n",
    ")\n"
   ]
  },
  {
   "cell_type": "code",
   "execution_count": 44,
   "id": "adf06a21",
   "metadata": {},
   "outputs": [],
   "source": [
    "# Define product to category mapping\n",
    "product_to_category = {\n",
    "    \"Laptop\": \"Technology\",\n",
    "    \"Mobile\": \"Technology\",\n",
    "    \"Tablet\": \"Technology\",\n",
    "    \"Shirt\": \"Clothing\",\n",
    "    \"Shoes\": \"Clothing\",\n",
    "    \"Watch\": \"Accessories\",\n",
    "    \"Headphones\": \"Accessories\"\n",
    "}\n",
    "\n",
    "# Map to a new column\n",
    "df[\"Category\"] = df[\"Product\"].map(product_to_category)\n"
   ]
  },
  {
   "cell_type": "code",
   "execution_count": 45,
   "id": "a4d6b5f8",
   "metadata": {},
   "outputs": [],
   "source": [
    "df[\"Category\"] = df[\"Category\"].fillna(\"Other\")\n",
    "\n"
   ]
  },
  {
   "cell_type": "code",
   "execution_count": 46,
   "id": "b20f3517",
   "metadata": {},
   "outputs": [],
   "source": [
    "df[\"ProfitMargin%\"] = (df[\"TotalPrice\"] - df[\"ShippingCost\"] - df[\"Discount\"]) / df[\"TotalPrice\"] * 100\n",
    "\n",
    "df[\"MarginSegment\"] = pd.cut(\n",
    "    df[\"ProfitMargin%\"],\n",
    "    bins=[-100, 0, 20, 50, 100],\n",
    "    labels=[\"Loss\", \"Low\", \"Medium\", \"High\"]\n",
    ")\n"
   ]
  },
  {
   "cell_type": "code",
   "execution_count": 53,
   "id": "c6dcc58d",
   "metadata": {},
   "outputs": [
    {
     "name": "stdout",
     "output_type": "stream",
     "text": [
      "IsWeekend\n",
      "False    1074\n",
      "True      426\n",
      "Name: count, dtype: int64\n",
      "OrderSegment\n",
      "Morning      1500\n",
      "Afternoon       0\n",
      "Evening         0\n",
      "Name: count, dtype: int64\n"
     ]
    }
   ],
   "source": [
    "df[\"OrderHour\"] = df[\"OrderDate\"].dt.hour\n",
    "df[\"OrderSegment\"] = pd.cut(\n",
    "    df[\"OrderHour\"],\n",
    "    bins=[0, 12, 18, 24],\n",
    "    labels=[\"Morning\", \"Afternoon\", \"Evening\"],\n",
    "    right=False\n",
    ")\n",
    "\n",
    "\n",
    "df[\"IsWeekend\"] = df[\"OrderDate\"].dt.dayofweek >= 5\n",
    "\n",
    "print(df[\"IsWeekend\"].value_counts()    )\n",
    "\n",
    "print(df[\"OrderSegment\"].value_counts().sort_index()    )"
   ]
  },
  {
   "cell_type": "code",
   "execution_count": null,
   "id": "a964bc9a",
   "metadata": {},
   "outputs": [
    {
     "name": "stdout",
     "output_type": "stream",
     "text": [
      "CustomerName\n",
      "Cust 9159    19723.59\n",
      "Cust 1947    17109.49\n",
      "Cust 9397    15239.58\n",
      "Cust 2137    14764.93\n",
      "Cust 4240    13254.54\n",
      "Cust 6895    12313.25\n",
      "Cust 4101    12262.02\n",
      "Cust 4715    12244.23\n",
      "Cust 1462    11985.95\n",
      "Cust 1186    11911.02\n",
      "Name: NetRevenue, dtype: float64\n"
     ]
    }
   ],
   "source": [
    "customer_clv = (\n",
    "    df.groupby(\"CustomerName\")[\"NetRevenue\"]\n",
    "      .sum()\n",
    "      .sort_values(ascending=False)\n",
    "      .head(10)\n",
    ")\n",
    "print(customer_clv)\n"
   ]
  },
  {
   "cell_type": "code",
   "execution_count": 49,
   "id": "89b033a7",
   "metadata": {},
   "outputs": [
    {
     "name": "stdout",
     "output_type": "stream",
     "text": [
      "298.8137547277415\n",
      "294.72541666666666\n"
     ]
    }
   ],
   "source": [
    "\n",
    "\n",
    "df[\"AOV\"] = df[\"NetRevenue\"] / df[\"Quantity\"]\n",
    "print(df[\"AOV\"].mean())\n",
    "print(df[\"AOV\"].median())"
   ]
  },
  {
   "cell_type": "code",
   "execution_count": null,
   "id": "4c1e8b30",
   "metadata": {},
   "outputs": [
    {
     "name": "stdout",
     "output_type": "stream",
     "text": [
      "CustomerName\n",
      "Cust 1003    0.0\n",
      "Cust 6577    0.0\n",
      "Cust 6573    0.0\n",
      "Cust 6561    0.0\n",
      "Cust 6554    0.0\n",
      "Cust 6546    0.0\n",
      "Cust 6542    0.0\n",
      "Cust 6579    0.0\n",
      "Cust 6539    0.0\n",
      "Cust 6525    0.0\n",
      "Name: Returned, dtype: float64\n"
     ]
    }
   ],
   "source": [
    "return_rate = (\n",
    "    df.groupby(\"CustomerName\")[\"Returned\"]\n",
    "      .mean() * 100\n",
    ").sort_values(ascending=True).head(10)\n",
    "\n",
    "\n",
    "print(return_rate   )\n",
    "\n",
    "#orders return rate by customers , 100 means he returns all his orders \n"
   ]
  },
  {
   "cell_type": "code",
   "execution_count": null,
   "id": "edc62d74",
   "metadata": {},
   "outputs": [],
   "source": []
  },
  {
   "cell_type": "code",
   "execution_count": 58,
   "id": "86e28a4e",
   "metadata": {},
   "outputs": [
    {
     "name": "stdout",
     "output_type": "stream",
     "text": [
      "             LastPurchase  Frequency  Monetary  RecencyDays\n",
      "CustomerName                                               \n",
      "Cust 1003      2025-06-30          1    321.82            0\n",
      "Cust 1007      2024-07-28          1    366.36          337\n",
      "Cust 1015      2024-01-01          1   1462.02          546\n",
      "Cust 1023      2024-07-27          1   3944.67          338\n",
      "Cust 1031      2023-02-01          1   1692.32          880\n"
     ]
    }
   ],
   "source": [
    "rfm = df.groupby(\"CustomerName\").agg({\n",
    "    \"OrderDate\": \"max\",          # Recency\n",
    "    \"OrderID\": \"count\",          # Frequency\n",
    "    \"NetRevenue\": \"sum\"          # Monetary\n",
    "}).rename(columns={\n",
    "    \"OrderDate\": \"LastPurchase\",\n",
    "    \"OrderID\": \"Frequency\",\n",
    "    \"NetRevenue\": \"Monetary\"\n",
    "})\n",
    "\n",
    "rfm[\"RecencyDays\"] = (df[\"OrderDate\"].max() - rfm[\"LastPurchase\"]).dt.days\n",
    "print(rfm.head())\n"
   ]
  },
  {
   "cell_type": "code",
   "execution_count": 60,
   "id": "e62d01dc",
   "metadata": {},
   "outputs": [
    {
     "name": "stdout",
     "output_type": "stream",
     "text": [
      "LoyaltySegment\n",
      "One-Time      1247\n",
      "Occasional     124\n",
      "Frequent         0\n",
      "Loyal            0\n",
      "Name: count, dtype: int64\n"
     ]
    }
   ],
   "source": [
    "rfm[\"LoyaltySegment\"] = pd.cut(\n",
    "    rfm[\"Frequency\"],\n",
    "    bins=[0, 1, 5, 10, float(\"inf\")],\n",
    "    labels=[\"One-Time\", \"Occasional\", \"Frequent\", \"Loyal\"]\n",
    ")\n",
    "print(rfm[\"LoyaltySegment\"].value_counts())"
   ]
  },
  {
   "cell_type": "code",
   "execution_count": 65,
   "id": "b4185e25",
   "metadata": {},
   "outputs": [
    {
     "name": "stdout",
     "output_type": "stream",
     "text": [
      "CohortIndex    0    1    2    3    4    5   6    7   8    9   ...   19   20  \\\n",
      "CohortMonth                                                   ...             \n",
      "2023-01      52.0  NaN  NaN  NaN  NaN  1.0 NaN  1.0 NaN  1.0  ...  NaN  1.0   \n",
      "2023-02      48.0  NaN  1.0  NaN  NaN  2.0 NaN  NaN NaN  NaN  ...  NaN  NaN   \n",
      "2023-03      59.0  NaN  NaN  1.0  1.0  NaN NaN  NaN NaN  NaN  ...  1.0  1.0   \n",
      "2023-04      41.0  1.0  NaN  NaN  NaN  NaN NaN  NaN NaN  NaN  ...  1.0  1.0   \n",
      "2023-05      45.0  NaN  NaN  NaN  1.0  NaN NaN  1.0 NaN  NaN  ...  1.0  NaN   \n",
      "\n",
      "CohortIndex   21   22   23   24   25   26   27   28  \n",
      "CohortMonth                                          \n",
      "2023-01      NaN  1.0  NaN  2.0  1.0  1.0  1.0  NaN  \n",
      "2023-02      NaN  NaN  1.0  NaN  3.0  NaN  NaN  1.0  \n",
      "2023-03      NaN  NaN  1.0  NaN  NaN  1.0  1.0  NaN  \n",
      "2023-04      1.0  1.0  NaN  NaN  NaN  NaN  NaN  NaN  \n",
      "2023-05      NaN  NaN  NaN  NaN  NaN  NaN  NaN  NaN  \n",
      "\n",
      "[5 rows x 29 columns]\n"
     ]
    }
   ],
   "source": [
    "import pandas as pd\n",
    "from operator import attrgetter   # ✅ needed for extracting .n (period difference as int)\n",
    "\n",
    "# Extract order month (Period type = year-month)\n",
    "df[\"OrderMonth\"] = df[\"OrderDate\"].dt.to_period(\"M\")\n",
    "\n",
    "# Find each customer's first purchase month\n",
    "df[\"CohortMonth\"] = df.groupby(\"CustomerName\")[\"OrderDate\"].transform(\"min\").dt.to_period(\"M\")\n",
    "\n",
    "# Cohort Index (months since first order)\n",
    "df[\"CohortIndex\"] = (df[\"OrderMonth\"] - df[\"CohortMonth\"]).apply(attrgetter(\"n\"))\n",
    "\n",
    "# Build cohort table\n",
    "cohort_data = df.groupby([\"CohortMonth\", \"CohortIndex\"])[\"CustomerName\"].nunique().reset_index()\n",
    "\n",
    "# Pivot for retention matrix\n",
    "cohort_pivot = cohort_data.pivot(index=\"CohortMonth\", columns=\"CohortIndex\", values=\"CustomerName\")\n",
    "print(cohort_pivot.head())\n"
   ]
  },
  {
   "cell_type": "code",
   "execution_count": null,
   "id": "320c6a7a",
   "metadata": {},
   "outputs": [],
   "source": []
  }
 ],
 "metadata": {
  "kernelspec": {
   "display_name": "base",
   "language": "python",
   "name": "python3"
  },
  "language_info": {
   "codemirror_mode": {
    "name": "ipython",
    "version": 3
   },
   "file_extension": ".py",
   "mimetype": "text/x-python",
   "name": "python",
   "nbconvert_exporter": "python",
   "pygments_lexer": "ipython3",
   "version": "3.12.7"
  }
 },
 "nbformat": 4,
 "nbformat_minor": 5
}
