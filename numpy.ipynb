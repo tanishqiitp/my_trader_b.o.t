{
 "cells": [
  {
   "cell_type": "code",
   "execution_count": 1,
   "id": "e35f3126",
   "metadata": {},
   "outputs": [
    {
     "name": "stdout",
     "output_type": "stream",
     "text": [
      "(5,)\n",
      "(2, 3)\n"
     ]
    }
   ],
   "source": [
    "import numpy as np\n",
    "\n",
    "# 1D array\n",
    "arr1 = np.array([1, 2, 3, 4, 5])\n",
    "\n",
    "# 2D array (matrix)\n",
    "arr2 = np.array([[1, 2, 3], [4, 5, 6]])\n",
    "\n",
    "print(arr1.shape)   # (5,)\n",
    "print(arr2.shape)   # (2,3)\n"
   ]
  },
  {
   "cell_type": "code",
   "execution_count": 21,
   "id": "d4d82209",
   "metadata": {},
   "outputs": [
    {
     "name": "stdout",
     "output_type": "stream",
     "text": [
      "[0.  0.2 0.4 0.6 0.8 1. ]\n"
     ]
    },
    {
     "data": {
      "text/plain": [
       "array([[1, 1, 1],\n",
       "       [1, 1, 1],\n",
       "       [1, 1, 1]])"
      ]
     },
     "execution_count": 21,
     "metadata": {},
     "output_type": "execute_result"
    }
   ],
   "source": [
    "np.zeros((2,3))      # 2x3 array of zeros\n",
    "np.ones((3,3))       # 3x3 array of ones\n",
    "np.arange(0,10,2) \n",
    "# [0, 2, 4, 6, 8]\n",
    "print(np.linspace(0,1,6)  ) # [0. ,0.25,0.5,0.75,1.]\n",
    "np.random.rand(2,2)  # random 2x2 array (0–1) \n",
    "np.random.randint(1,2,(3,3)) # random ints 1–9\n"
   ]
  },
  {
   "cell_type": "code",
   "execution_count": 22,
   "id": "727d27c8",
   "metadata": {},
   "outputs": [
    {
     "name": "stdout",
     "output_type": "stream",
     "text": [
      "10\n",
      "50\n",
      "[20 30 40]\n",
      "3\n",
      "[2 5 8]\n",
      "[4 5 6]\n"
     ]
    }
   ],
   "source": [
    "arr = np.array([10,20,30,40,50])\n",
    "print(arr[0])     # 10\n",
    "print(arr[-1])    # 50\n",
    "print(arr[1:4])   # [20,30,40]\n",
    "\n",
    "mat = np.array([[1,2,3],[4,5,6],[7,8,9]])\n",
    "print(mat[0,2])   # element at row=0, col=2 → 3\n",
    "print(mat[:,1])   # second column → [2,5,8]\n",
    "print(mat[1,:])   # second row → [4,5,6]\n"
   ]
  },
  {
   "cell_type": "code",
   "execution_count": 23,
   "id": "de04035e",
   "metadata": {},
   "outputs": [
    {
     "name": "stdout",
     "output_type": "stream",
     "text": [
      "[5 7 9]\n",
      "[ 4 10 18]\n",
      "[1 4 9]\n",
      "[2.         2.23606798 2.44948974]\n"
     ]
    }
   ],
   "source": [
    "a = np.array([1,2,3])\n",
    "b = np.array([4,5,6])\n",
    "\n",
    "print(a + b)     # [5 7 9]\n",
    "print(a * b)     # [4 10 18]\n",
    "print(a ** 2)    # [1 4 9]\n",
    "print(np.sqrt(b))# [2. 2.236 2.449]\n"
   ]
  },
  {
   "cell_type": "code",
   "execution_count": 24,
   "id": "344939ca",
   "metadata": {},
   "outputs": [
    {
     "name": "stdout",
     "output_type": "stream",
     "text": [
      "3.5\n",
      "21\n",
      "6\n",
      "1\n",
      "1.707825127659933\n"
     ]
    }
   ],
   "source": [
    "arr = np.array([1,2,3,4,5,6])\n",
    "\n",
    "print(arr.mean())     # 3.5\n",
    "print(arr.sum())      # 21\n",
    "print(arr.max())      # 6\n",
    "print(arr.min())      # 1\n",
    "print(arr.std())      # standard deviation\n"
   ]
  },
  {
   "cell_type": "code",
   "execution_count": 26,
   "id": "5c1e97a1",
   "metadata": {},
   "outputs": [
    {
     "name": "stdout",
     "output_type": "stream",
     "text": [
      "[[19 22]\n",
      " [43 50]]\n",
      "[[-2.   1. ]\n",
      " [ 1.5 -0.5]]\n",
      "-2.0000000000000004\n"
     ]
    }
   ],
   "source": [
    "A = np.array([[1,2],[3,4]])\n",
    "B = np.array([[5,6],[7,8]])\n",
    "\n",
    "print(A.dot(B))        # matrix multiplication\n",
    "print(np.linalg.inv(A)) # inverse of A\n",
    "print(np.linalg.det(A)) # determinant of A\n"
   ]
  },
  {
   "cell_type": "code",
   "execution_count": 27,
   "id": "899cfc24",
   "metadata": {},
   "outputs": [
    {
     "name": "stdout",
     "output_type": "stream",
     "text": [
      "[30 40 50]\n",
      "[20 40]\n"
     ]
    }
   ],
   "source": [
    "arr = np.array([10, 20, 30, 40, 50])\n",
    "print(arr[arr > 25])     # [30 40 50]\n",
    "print(arr[arr % 20 == 0])# [20 40]\n"
   ]
  },
  {
   "cell_type": "code",
   "execution_count": 28,
   "id": "601a8357",
   "metadata": {},
   "outputs": [
    {
     "name": "stdout",
     "output_type": "stream",
     "text": [
      "(12,)\n",
      "[[ 0  1  2  3]\n",
      " [ 4  5  6  7]\n",
      " [ 8  9 10 11]]\n"
     ]
    }
   ],
   "source": [
    "# Reshaping arrays\n",
    "import numpy as np\n",
    "\n",
    "arr = np.arange(12)   # [0 1 2 3 4 5 6 7 8 9 10 11]\n",
    "print(arr.shape)      # (12,)\n",
    "\n",
    "# Reshape into 3x4 matrix\n",
    "mat = arr.reshape(3,4)\n",
    "print(mat)\n"
   ]
  },
  {
   "cell_type": "code",
   "execution_count": 29,
   "id": "8f00c42d",
   "metadata": {},
   "outputs": [
    {
     "data": {
      "text/plain": [
       "array([[ 0,  1,  2,  3,  4,  5],\n",
       "       [ 6,  7,  8,  9, 10, 11]])"
      ]
     },
     "execution_count": 29,
     "metadata": {},
     "output_type": "execute_result"
    }
   ],
   "source": [
    "arr.reshape(-1, 6)   # -1 lets NumPy figure out dimension automatically\n"
   ]
  },
  {
   "cell_type": "code",
   "execution_count": 30,
   "id": "86a1ef5a",
   "metadata": {},
   "outputs": [
    {
     "name": "stdout",
     "output_type": "stream",
     "text": [
      "[11 12 13]\n",
      "[2 4 6]\n",
      "[1 4 9]\n"
     ]
    }
   ],
   "source": [
    "arr = np.array([1, 2, 3])\n",
    "print(arr + 10)   # [11 12 13]\n",
    "print(arr * 2)    # [2 4 6]\n",
    "print(arr ** 2)   # [1 4 9]"
   ]
  },
  {
   "cell_type": "code",
   "execution_count": 31,
   "id": "fb9cdef6",
   "metadata": {},
   "outputs": [
    {
     "name": "stdout",
     "output_type": "stream",
     "text": [
      "[[11 21 31]\n",
      " [12 22 32]\n",
      " [13 23 33]]\n"
     ]
    }
   ],
   "source": [
    "\n",
    "a = np.array([[1],[2],[3]])   # shape (3,1)\n",
    "b = np.array([10,20,30])      # shape (3,)\n",
    "print(a + b)\n"
   ]
  },
  {
   "cell_type": "code",
   "execution_count": 1,
   "id": "88d58666",
   "metadata": {},
   "outputs": [
    {
     "name": "stdout",
     "output_type": "stream",
     "text": [
      "[0.41415908 0.87030012 0.91556368]\n",
      "3\n",
      "[9 6 9 4 9]\n"
     ]
    }
   ],
   "source": [
    "import numpy as np\n",
    "\n",
    "print(np.random.rand(3))       # 3 random floats (0–1)\n",
    "print(np.random.randint(1,10)) # single random int 1–9\n",
    "print(np.random.randint(1,10, size=5)) # 5 random ints 1–9\n"
   ]
  },
  {
   "cell_type": "code",
   "execution_count": 2,
   "id": "d351162b",
   "metadata": {},
   "outputs": [
    {
     "name": "stdout",
     "output_type": "stream",
     "text": [
      "[6 6 2 2 3 1 6 5 1 1]\n"
     ]
    }
   ],
   "source": [
    "# Simulate 10 dice rolls (1–6)\n",
    "dice = np.random.randint(1, 7, 10)\n",
    "print(dice)\n"
   ]
  },
  {
   "cell_type": "code",
   "execution_count": 6,
   "id": "79eb286e",
   "metadata": {},
   "outputs": [
    {
     "name": "stdout",
     "output_type": "stream",
     "text": [
      "Estimated Pi: 3.1444\n"
     ]
    }
   ],
   "source": [
    "N = 100000\n",
    "\n",
    "x = np.random.rand(N)\n",
    "y = np.random.rand(N)\n",
    "\n",
    "inside_circle = (x**2 + y**2) <= 1\n",
    "pi_estimate = (inside_circle.sum() / N) * 4\n",
    "print(\"Estimated Pi:\", pi_estimate)\n"
   ]
  },
  {
   "cell_type": "code",
   "execution_count": 7,
   "id": "8b63e238",
   "metadata": {},
   "outputs": [
    {
     "name": "stdout",
     "output_type": "stream",
     "text": [
      "['Blue' 'Red' 'Blue' 'Green' 'Blue']\n"
     ]
    }
   ],
   "source": [
    "colors = [\"Red\", \"Blue\", \"Green\"]\n",
    "print(np.random.choice(colors, size=5))   # pick 5 random colors\n"
   ]
  },
  {
   "cell_type": "code",
   "execution_count": 8,
   "id": "5584bbd4",
   "metadata": {},
   "outputs": [
    {
     "name": "stdout",
     "output_type": "stream",
     "text": [
      "[[19 22]\n",
      " [43 50]]\n",
      "[[19 22]\n",
      " [43 50]]\n"
     ]
    }
   ],
   "source": [
    "import numpy as np\n",
    "\n",
    "A = np.array([[1, 2], [3, 4]])\n",
    "B = np.array([[5, 6], [7, 8]])\n",
    "\n",
    "print(A @ B)       # matrix multiplication (preferred)\n",
    "print(np.dot(A, B)) # same thing\n"
   ]
  },
  {
   "cell_type": "code",
   "execution_count": 9,
   "id": "ff91442c",
   "metadata": {},
   "outputs": [
    {
     "data": {
      "text/plain": [
       "-2.0000000000000004"
      ]
     },
     "execution_count": 9,
     "metadata": {},
     "output_type": "execute_result"
    }
   ],
   "source": [
    "np.linalg.det(A)\n"
   ]
  },
  {
   "cell_type": "code",
   "execution_count": 10,
   "id": "ca8bb5da",
   "metadata": {},
   "outputs": [
    {
     "name": "stdout",
     "output_type": "stream",
     "text": [
      "Eigenvalues: [-0.37228132  5.37228132]\n",
      "Eigenvectors:\n",
      " [[-0.82456484 -0.41597356]\n",
      " [ 0.56576746 -0.90937671]]\n"
     ]
    }
   ],
   "source": [
    "vals, vecs = np.linalg.eig(A)\n",
    "print(\"Eigenvalues:\", vals)\n",
    "print(\"Eigenvectors:\\n\", vecs)\n"
   ]
  },
  {
   "cell_type": "code",
   "execution_count": 13,
   "id": "035724de",
   "metadata": {},
   "outputs": [
    {
     "name": "stdout",
     "output_type": "stream",
     "text": [
      "Solution: [2. 1.]\n"
     ]
    }
   ],
   "source": [
    "A = np.array([[2, 1], [1, -1]])\n",
    "B = np.array([5, 1])\n",
    "\n",
    "X = np.linalg.solve(A,B)\n",
    "print(\"Solution:\", X)\n"
   ]
  },
  {
   "cell_type": "code",
   "execution_count": 14,
   "id": "88163e7f",
   "metadata": {},
   "outputs": [
    {
     "name": "stdout",
     "output_type": "stream",
     "text": [
      "Loop: 0.6694977283477783\n",
      "NumPy: 0.0008068084716796875\n"
     ]
    },
    {
     "name": "stderr",
     "output_type": "stream",
     "text": [
      "C:\\Users\\ertan\\AppData\\Local\\Temp\\ipykernel_6988\\3164889563.py:7: RuntimeWarning: overflow encountered in scalar add\n",
      "  total = sum([x**2 for x in arr])\n"
     ]
    }
   ],
   "source": [
    "import numpy as np, time\n",
    "\n",
    "arr = np.arange(1_000_000)\n",
    "\n",
    "# Python loop\n",
    "start = time.time()\n",
    "total = sum([x**2 for x in arr])\n",
    "print(\"Loop:\", time.time()-start)\n",
    "\n",
    "# NumPy vectorized\n",
    "start = time.time()\n",
    "total = np.sum(arr**2)\n",
    "print(\"NumPy:\", time.time()-start)\n"
   ]
  },
  {
   "cell_type": "code",
   "execution_count": 19,
   "id": "1c85bfc7",
   "metadata": {},
   "outputs": [
    {
     "name": "stdout",
     "output_type": "stream",
     "text": [
      "P(sum=7): 0.153\n"
     ]
    }
   ],
   "source": [
    "N = 1000\n",
    "dice1 = np.random.randint(1,7,N)\n",
    "dice2 = np.random.randint(1,7,N)\n",
    "\n",
    "prob = np.mean((dice1 + dice2) == 7)\n",
    "print(\"P(sum=7):\", prob)   # ~0.1666 (1/6)\n"
   ]
  },
  {
   "cell_type": "code",
   "execution_count": 20,
   "id": "1ed17d82",
   "metadata": {},
   "outputs": [
    {
     "name": "stdout",
     "output_type": "stream",
     "text": [
      "Winning numbers: {35, 40, 43, 20, 27, 30}\n",
      "Your ticket: {48, 20, 26, 27, 30, 31}\n",
      "Matches: 3\n"
     ]
    }
   ],
   "source": [
    "winning = set(np.random.choice(np.arange(1,50), 6, replace=False))\n",
    "ticket = set(np.random.choice(np.arange(1,50), 6, replace=False))\n",
    "\n",
    "print(\"Winning numbers:\", winning)\n",
    "print(\"Your ticket:\", ticket)\n",
    "print(\"Matches:\", len(winning & ticket))\n"
   ]
  }
 ],
 "metadata": {
  "kernelspec": {
   "display_name": "base",
   "language": "python",
   "name": "python3"
  },
  "language_info": {
   "codemirror_mode": {
    "name": "ipython",
    "version": 3
   },
   "file_extension": ".py",
   "mimetype": "text/x-python",
   "name": "python",
   "nbconvert_exporter": "python",
   "pygments_lexer": "ipython3",
   "version": "3.12.7"
  }
 },
 "nbformat": 4,
 "nbformat_minor": 5
}
