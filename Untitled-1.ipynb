{
 "cells": [
  {
   "cell_type": "code",
   "execution_count": 2,
   "id": "88c42e3c",
   "metadata": {},
   "outputs": [
    {
     "name": "stdout",
     "output_type": "stream",
     "text": [
      "The product louda costs 20 and its availability is True\n"
     ]
    }
   ],
   "source": [
    "product = \"louda\"\n",
    "\n",
    "price = 20\n",
    "\n",
    "height = 5.8\n",
    "\n",
    "in_stock = True\n",
    "\n",
    "print(f\"The product {product} costs {price} and its availability is {in_stock}\")\n"
   ]
  },
  {
   "cell_type": "code",
   "execution_count": null,
   "id": "bc72cedf",
   "metadata": {},
   "outputs": [],
   "source": []
  },
  {
   "cell_type": "code",
   "execution_count": 3,
   "id": "3ad6ddb1",
   "metadata": {},
   "outputs": [
    {
     "name": "stdout",
     "output_type": "stream",
     "text": [
      "apple\n",
      "cherry\n",
      "['apple', 'mango', 'cherry']\n",
      "['mango', 'cherry', 'orange']\n",
      "['mango', 'cherry']\n"
     ]
    }
   ],
   "source": [
    "fruits = [\"apple\", \"banana\", \"cherry\"]\n",
    "\n",
    "# Access\n",
    "print(fruits[0])       # apple\n",
    "print(fruits[-1])      # cherry\n",
    "\n",
    "   # banana, cherry\n",
    "# Modify\n",
    "fruits[1] = \"mango\"\n",
    "\n",
    "print(fruits)  \n",
    "# Add & Remove\n",
    "fruits.append(\"orange\")\n",
    "fruits.remove(\"apple\")\n",
    "\n",
    "print(fruits)  \n",
    "# Slice\n",
    "print(fruits[0:2])     # first two items\n"
   ]
  },
  {
   "cell_type": "code",
   "execution_count": 4,
   "id": "8b67caaf",
   "metadata": {},
   "outputs": [
    {
     "name": "stdout",
     "output_type": "stream",
     "text": [
      "[30, 40]\n"
     ]
    }
   ],
   "source": [
    "nums = [20, 30, 40]\n",
    "\n",
    "nums.append(50)\n",
    "\n",
    "nums.remove(20)\n",
    "\n",
    "print(nums[0:2])  # [30, 40, 50]\n"
   ]
  },
  {
   "cell_type": "code",
   "execution_count": 5,
   "id": "cb7f1ce4",
   "metadata": {},
   "outputs": [
    {
     "name": "stdout",
     "output_type": "stream",
     "text": [
      "Adult\n"
     ]
    }
   ],
   "source": [
    "age = 18\n",
    "if age >= 18:\n",
    "    print(\"Adult\")\n",
    "else:\n",
    "    print(\"Minor\")\n"
   ]
  },
  {
   "cell_type": "code",
   "execution_count": 6,
   "id": "f0a49210",
   "metadata": {},
   "outputs": [
    {
     "name": "stdout",
     "output_type": "stream",
     "text": [
      "0\n",
      "1\n",
      "2\n",
      "3\n",
      "4\n",
      "0\n",
      "1\n",
      "2\n",
      "3\n",
      "4\n"
     ]
    }
   ],
   "source": [
    "# For loop\n",
    "for i in range(5):\n",
    "    print(i)\n",
    "\n",
    "# While loop\n",
    "x = 0\n",
    "while x < 5:\n",
    "    print(x)\n",
    "    x += 1\n"
   ]
  },
  {
   "cell_type": "code",
   "execution_count": 7,
   "id": "e07f7451",
   "metadata": {},
   "outputs": [
    {
     "name": "stdout",
     "output_type": "stream",
     "text": [
      "[1, 4, 9, 16]\n"
     ]
    }
   ],
   "source": [
    "nums = [1, 2, 3, 4]\n",
    "squares = [n**2 for n in nums]\n",
    "\n",
    "print(squares)  # [1, 4, 9, 16]"
   ]
  },
  {
   "cell_type": "code",
   "execution_count": 8,
   "id": "14e4d826",
   "metadata": {},
   "outputs": [
    {
     "name": "stdout",
     "output_type": "stream",
     "text": [
      "Tanay\n",
      "{'name': 'Tanay', 'age': 22, 'city': 'Delhi'}\n"
     ]
    }
   ],
   "source": [
    "person = {\"name\": \"Tanay\", \"age\": 22}\n",
    "print(person[\"name\"])     # Access\n",
    "person[\"city\"] = \"Delhi\"  # Add\n",
    "\n",
    "print(person)  # {'name': 'Tanay', 'age': 22, 'city': 'Delhi'}"
   ]
  },
  {
   "cell_type": "code",
   "execution_count": 9,
   "id": "d6b8b4f4",
   "metadata": {},
   "outputs": [
    {
     "name": "stdout",
     "output_type": "stream",
     "text": [
      "Hello, Tanay\n"
     ]
    }
   ],
   "source": [
    "def greet(name):\n",
    "    return f\"Hello, {name}\"\n",
    "\n",
    "print(greet(\"Tanay\"))\n"
   ]
  },
  {
   "cell_type": "code",
   "execution_count": 10,
   "id": "11de4bcf",
   "metadata": {},
   "outputs": [
    {
     "name": "stdout",
     "output_type": "stream",
     "text": [
      "3\n",
      "9\n",
      "15\n"
     ]
    }
   ],
   "source": [
    "\n",
    "for i in range (1,20):\n",
    "    \n",
    "  if i%3 ==0 and  i%6 != 0 :\n",
    "      print(i)\n",
    "      "
   ]
  },
  {
   "cell_type": "code",
   "execution_count": 11,
   "id": "3acfe68c",
   "metadata": {},
   "outputs": [
    {
     "name": "stdout",
     "output_type": "stream",
     "text": [
      "[4, 64, 196]\n"
     ]
    }
   ],
   "source": [
    "nums = [2, 5, 8, 11, 14]\n",
    "\n",
    "squares = [n**2 for n in nums if n%2 == 0]\n",
    "print(squares)  # [4, 64, 196]"
   ]
  },
  {
   "cell_type": "code",
   "execution_count": 12,
   "id": "eb9e13f9",
   "metadata": {},
   "outputs": [
    {
     "ename": "ValueError",
     "evalue": "invalid literal for int() with base 10: 'tvtg'",
     "output_type": "error",
     "traceback": [
      "\u001b[31m---------------------------------------------------------------------------\u001b[39m",
      "\u001b[31mValueError\u001b[39m                                Traceback (most recent call last)",
      "\u001b[36mCell\u001b[39m\u001b[36m \u001b[39m\u001b[32mIn[12]\u001b[39m\u001b[32m, line 3\u001b[39m\n\u001b[32m      1\u001b[39m name = \u001b[38;5;28minput\u001b[39m(\u001b[33m\"\u001b[39m\u001b[33mEnter your name: \u001b[39m\u001b[33m\"\u001b[39m)\n\u001b[32m----> \u001b[39m\u001b[32m3\u001b[39m score = \u001b[38;5;28;43mint\u001b[39;49m\u001b[43m(\u001b[49m\u001b[38;5;28;43minput\u001b[39;49m\u001b[43m(\u001b[49m\u001b[33;43m\"\u001b[39;49m\u001b[33;43mEnter your score: \u001b[39;49m\u001b[33;43m\"\u001b[39;49m\u001b[43m)\u001b[49m\u001b[43m)\u001b[49m\n\u001b[32m      5\u001b[39m \u001b[38;5;28mprint\u001b[39m(\u001b[33mf\u001b[39m\u001b[33m\"\u001b[39m\u001b[38;5;132;01m{\u001b[39;00mname\u001b[38;5;132;01m}\u001b[39;00m\u001b[33m scored \u001b[39m\u001b[38;5;132;01m{\u001b[39;00mscore\u001b[38;5;132;01m}\u001b[39;00m\u001b[33m% in python test.\u001b[39m\u001b[33m\"\u001b[39m)\n",
      "\u001b[31mValueError\u001b[39m: invalid literal for int() with base 10: 'tvtg'"
     ]
    }
   ],
   "source": [
    "name = input(\"Enter your name: \")\n",
    "\n",
    "score = int(input(\"Enter your score: \"))\n",
    "\n",
    "print(f\"{name} scored {score}% in python test.\")"
   ]
  },
  {
   "cell_type": "code",
   "execution_count": null,
   "id": "d9c94bc0",
   "metadata": {},
   "outputs": [
    {
     "name": "stdout",
     "output_type": "stream",
     "text": [
      "85\n"
     ]
    }
   ],
   "source": [
    "student = {\"name\": \"Aman\", \"marks\": {\"math\": 90, \"science\": 85}}\n",
    "print(student[\"marks\"][\"science\"])  # Access"
   ]
  },
  {
   "cell_type": "code",
   "execution_count": null,
   "id": "b921aaa3",
   "metadata": {},
   "outputs": [
    {
     "name": "stdout",
     "output_type": "stream",
     "text": [
      "word is not palindrome :-ubui\n"
     ]
    }
   ],
   "source": [
    "def is_palindrome(word):\n",
    "     \n",
    "     return f\"word is palindrome :-{word}\" if word == word[::-1] else f\"word is not palindrome :-{word}\"\n",
    "\n",
    "print(is_palindrome(\"ubui\"))  # word is palindrome radar"
   ]
  },
  {
   "cell_type": "code",
   "execution_count": null,
   "id": "9d881817",
   "metadata": {},
   "outputs": [
    {
     "name": "stdout",
     "output_type": "stream",
     "text": [
      "[12, 45, 22]\n"
     ]
    }
   ],
   "source": [
    "data = [12, 3, 45, 22, 10, 5]\n",
    "\n",
    "greater_10 = [n for n in data if n>10]\n",
    "\n",
    "print(greater_10)  # [12, 45, 22]"
   ]
  },
  {
   "cell_type": "code",
   "execution_count": null,
   "id": "5b21bec1",
   "metadata": {},
   "outputs": [
    {
     "name": "stdout",
     "output_type": "stream",
     "text": [
      "[ 3  6  9 12 15]\n"
     ]
    }
   ],
   "source": [
    "import numpy as np \n",
    "\n",
    "arry1 = np.array([1,2,3,4,5])\n",
    "\n",
    "\n",
    "\n",
    "arry2 = arry1 * 3\n",
    "\n",
    "print(arry2)  # [ 3  6  9 12 15]"
   ]
  },
  {
   "cell_type": "code",
   "execution_count": null,
   "id": "d3bc2443",
   "metadata": {},
   "outputs": [
    {
     "data": {
      "text/plain": [
       "'Title: Data Science, Author: Jane Smith'"
      ]
     },
     "execution_count": 17,
     "metadata": {},
     "output_type": "execute_result"
    }
   ],
   "source": [
    "class book :\n",
    "    def __init__(self,title,author):\n",
    "        self.title = title\n",
    "        self.author = author\n",
    "    \n",
    "    def show_details(self):\n",
    "        return f\"Title: {self.title}, Author: {self.author}\"  \n",
    "    \n",
    "my_book = book(\"Python Programming\", \"John Doe\")  \n",
    "\n",
    "my_book_2 = book(\"Data Science\", \"Jane Smith\")\n",
    "\n",
    "my_book.show_details()\n",
    "my_book_2.show_details()"
   ]
  },
  {
   "cell_type": "code",
   "execution_count": null,
   "id": "bb7e0d51",
   "metadata": {},
   "outputs": [
    {
     "name": "stdout",
     "output_type": "stream",
     "text": [
      "A    10\n",
      "B    20\n",
      "C    30\n",
      "dtype: int64\n",
      "20\n"
     ]
    }
   ],
   "source": [
    "import pandas as pd\n",
    "\n",
    "data = [10, 20, 30]\n",
    "labels = [\"A\", \"B\", \"C\"]\n",
    "\n",
    "series = pd.Series(data, index=labels)\n",
    "print(series)\n",
    "print(series[\"B\"])  # Access by label\n"
   ]
  },
  {
   "cell_type": "code",
   "execution_count": null,
   "id": "ba3a3560",
   "metadata": {},
   "outputs": [
    {
     "name": "stdout",
     "output_type": "stream",
     "text": [
      "      Name  Age       City\n",
      "0    Alice   25      Delhi\n",
      "1      Bob   30     Mumbai\n",
      "2  Charlie   35  Bangalore\n"
     ]
    }
   ],
   "source": [
    "data = {\n",
    "    \"Name\": [\"Alice\", \"Bob\", \"Charlie\"],\n",
    "    \"Age\": [25, 30, 35],\n",
    "    \"City\": [\"Delhi\", \"Mumbai\", \"Bangalore\"]\n",
    "}\n",
    "\n",
    "df = pd.DataFrame(data)\n",
    "print(df)\n"
   ]
  },
  {
   "cell_type": "code",
   "execution_count": null,
   "id": "25058b0b",
   "metadata": {},
   "outputs": [
    {
     "name": "stdout",
     "output_type": "stream",
     "text": [
      "(9800, 18)\n",
      "   Row_ID        Order_ID  Order_Date   Ship_Date    Customer_Name  \\\n",
      "0       1  CA-2017-152156   8/11/2017  11/11/2017      Claire Gute   \n",
      "1       2  CA-2017-152156   8/11/2017  11/11/2017      Claire Gute   \n",
      "2       3  CA-2017-138688   12/6/2017  16/06/2017  Darrin Van Huff   \n",
      "3       4  US-2016-108966  11/10/2016  18/10/2016    Sean O Donnel   \n",
      "4       5  US-2016-108966  11/10/2016  18/10/2016    Sean O Donnel   \n",
      "\n",
      "              City       Ship_Mode Customer_ID        Country    Segment  \\\n",
      "0        Henderson    Second Class    CG-12520  United States   Consumer   \n",
      "1        Henderson    Second Class    CG-12520  United States   Consumer   \n",
      "2      Los Angeles    Second Class    DV-13045  United States  Corporate   \n",
      "3  Fort Lauderdale  Standard Class    SO-20335  United States   Consumer   \n",
      "4  Fort Lauderdale  Standard Class    SO-20335  United States   Consumer   \n",
      "\n",
      "      Sales       State  Postal_Code Region       Product_ID         Category  \\\n",
      "0  261.9600    Kentucky        42420  South  FUR-BO-10001798        Furniture   \n",
      "1  731.9400    Kentucky        42420  South  FUR-CH-10000454        Furniture   \n",
      "2   14.6200  California        90036   West  OFF-LA-10000240  Office Supplies   \n",
      "3  957.5775     Florida        33311  South  FUR-TA-10000577        Furniture   \n",
      "4   22.3680     Florida        33311  South  OFF-ST-10000760  Office Supplies   \n",
      "\n",
      "  Sub_Category                                       Product_Name  \n",
      "0    Bookcases                  Bush Somerset Collection Bookcase  \n",
      "1       Chairs  Hon Deluxe Fabric Upholstered Stacking Chairs,...  \n",
      "2       Labels  Self-Adhesive Address Labels for Typewriters b...  \n",
      "3       Tables      Bretford CR4500 Series Slim Rectangular Table  \n",
      "4      Storage                      Eldon Fold N Roll Cart System  \n",
      "<class 'pandas.core.frame.DataFrame'>\n",
      "RangeIndex: 9800 entries, 0 to 9799\n",
      "Data columns (total 18 columns):\n",
      " #   Column         Non-Null Count  Dtype  \n",
      "---  ------         --------------  -----  \n",
      " 0   Row_ID         9800 non-null   int64  \n",
      " 1   Order_ID       9800 non-null   object \n",
      " 2   Order_Date     9800 non-null   object \n",
      " 3   Ship_Date      9800 non-null   object \n",
      " 4   Customer_Name  9800 non-null   object \n",
      " 5   City           9800 non-null   object \n",
      " 6   Ship_Mode      9800 non-null   object \n",
      " 7   Customer_ID    9800 non-null   object \n",
      " 8   Country        9800 non-null   object \n",
      " 9   Segment        9800 non-null   object \n",
      " 10  Sales          9800 non-null   float64\n",
      " 11  State          9800 non-null   object \n",
      " 12  Postal_Code    9800 non-null   int64  \n",
      " 13  Region         9800 non-null   object \n",
      " 14  Product_ID     9800 non-null   object \n",
      " 15  Category       9800 non-null   object \n",
      " 16  Sub_Category   9800 non-null   object \n",
      " 17  Product_Name   9800 non-null   object \n",
      "dtypes: float64(1), int64(2), object(15)\n",
      "memory usage: 1.3+ MB\n",
      "None\n"
     ]
    }
   ],
   "source": [
    "import pandas as pd\n",
    "\n",
    "df = pd.read_csv(\n",
    "    \"C:/Users/ertan/sem 5 ki backchodi/important notes/Superstore Sales 🛒🏷️🛍️📦🏪 export 2025-08-16 14-30-51.csv\"\n",
    ")\n",
    "\n",
    "print(df.shape)\n",
    "print(df.head())\n",
    "print(df.info())\n"
   ]
  },
  {
   "cell_type": "code",
   "execution_count": null,
   "id": "240ba5b9",
   "metadata": {},
   "outputs": [
    {
     "name": "stdout",
     "output_type": "stream",
     "text": [
      "(9800, 18)\n",
      "Index(['Row_ID', 'Order_ID', 'Order_Date', 'Ship_Date', 'Customer_Name',\n",
      "       'City', 'Ship_Mode', 'Customer_ID', 'Country', 'Segment', 'Sales',\n",
      "       'State', 'Postal_Code', 'Region', 'Product_ID', 'Category',\n",
      "       'Sub_Category', 'Product_Name'],\n",
      "      dtype='object')\n",
      "<class 'pandas.core.frame.DataFrame'>\n",
      "RangeIndex: 9800 entries, 0 to 9799\n",
      "Data columns (total 18 columns):\n",
      " #   Column         Non-Null Count  Dtype  \n",
      "---  ------         --------------  -----  \n",
      " 0   Row_ID         9800 non-null   int64  \n",
      " 1   Order_ID       9800 non-null   object \n",
      " 2   Order_Date     9800 non-null   object \n",
      " 3   Ship_Date      9800 non-null   object \n",
      " 4   Customer_Name  9800 non-null   object \n",
      " 5   City           9800 non-null   object \n",
      " 6   Ship_Mode      9800 non-null   object \n",
      " 7   Customer_ID    9800 non-null   object \n",
      " 8   Country        9800 non-null   object \n",
      " 9   Segment        9800 non-null   object \n",
      " 10  Sales          9800 non-null   float64\n",
      " 11  State          9800 non-null   object \n",
      " 12  Postal_Code    9800 non-null   int64  \n",
      " 13  Region         9800 non-null   object \n",
      " 14  Product_ID     9800 non-null   object \n",
      " 15  Category       9800 non-null   object \n",
      " 16  Sub_Category   9800 non-null   object \n",
      " 17  Product_Name   9800 non-null   object \n",
      "dtypes: float64(1), int64(2), object(15)\n",
      "memory usage: 1.3+ MB\n",
      "None\n",
      "   Row_ID        Order_ID  Order_Date   Ship_Date    Customer_Name  \\\n",
      "0       1  CA-2017-152156   8/11/2017  11/11/2017      Claire Gute   \n",
      "1       2  CA-2017-152156   8/11/2017  11/11/2017      Claire Gute   \n",
      "2       3  CA-2017-138688   12/6/2017  16/06/2017  Darrin Van Huff   \n",
      "3       4  US-2016-108966  11/10/2016  18/10/2016    Sean O Donnel   \n",
      "4       5  US-2016-108966  11/10/2016  18/10/2016    Sean O Donnel   \n",
      "\n",
      "              City       Ship_Mode Customer_ID        Country    Segment  \\\n",
      "0        Henderson    Second Class    CG-12520  United States   Consumer   \n",
      "1        Henderson    Second Class    CG-12520  United States   Consumer   \n",
      "2      Los Angeles    Second Class    DV-13045  United States  Corporate   \n",
      "3  Fort Lauderdale  Standard Class    SO-20335  United States   Consumer   \n",
      "4  Fort Lauderdale  Standard Class    SO-20335  United States   Consumer   \n",
      "\n",
      "      Sales       State  Postal_Code Region       Product_ID         Category  \\\n",
      "0  261.9600    Kentucky        42420  South  FUR-BO-10001798        Furniture   \n",
      "1  731.9400    Kentucky        42420  South  FUR-CH-10000454        Furniture   \n",
      "2   14.6200  California        90036   West  OFF-LA-10000240  Office Supplies   \n",
      "3  957.5775     Florida        33311  South  FUR-TA-10000577        Furniture   \n",
      "4   22.3680     Florida        33311  South  OFF-ST-10000760  Office Supplies   \n",
      "\n",
      "  Sub_Category                                       Product_Name  \n",
      "0    Bookcases                  Bush Somerset Collection Bookcase  \n",
      "1       Chairs  Hon Deluxe Fabric Upholstered Stacking Chairs,...  \n",
      "2       Labels  Self-Adhesive Address Labels for Typewriters b...  \n",
      "3       Tables      Bretford CR4500 Series Slim Rectangular Table  \n",
      "4      Storage                      Eldon Fold N Roll Cart System  \n",
      "      Row_ID        Order_ID  Order_Date   Ship_Date     Customer_Name  \\\n",
      "9795    9796  CA-2017-125920  21/05/2017  28/05/2017     Sally Hughsby   \n",
      "9796    9797  CA-2016-128608   12/1/2016  17/01/2016  Cindy Schnelling   \n",
      "9797    9798  CA-2016-128608   12/1/2016  17/01/2016  Cindy Schnelling   \n",
      "9798    9799  CA-2016-128608   12/1/2016  17/01/2016  Cindy Schnelling   \n",
      "9799    9800  CA-2016-128608   12/1/2016  17/01/2016  Cindy Schnelling   \n",
      "\n",
      "         City       Ship_Mode Customer_ID        Country    Segment    Sales  \\\n",
      "9795  Chicago  Standard Class    SH-19975  United States  Corporate    3.798   \n",
      "9796   Toledo  Standard Class    CS-12490  United States  Corporate   10.368   \n",
      "9797   Toledo  Standard Class    CS-12490  United States  Corporate  235.188   \n",
      "9798   Toledo  Standard Class    CS-12490  United States  Corporate   26.376   \n",
      "9799   Toledo  Standard Class    CS-12490  United States  Corporate   10.384   \n",
      "\n",
      "         State  Postal_Code   Region       Product_ID         Category  \\\n",
      "9795  Illinois        60610  Central  OFF-BI-10003429  Office Supplies   \n",
      "9796      Ohio        43615     East  OFF-AR-10001374  Office Supplies   \n",
      "9797      Ohio        43615     East  TEC-PH-10004977       Technology   \n",
      "9798      Ohio        43615     East  TEC-PH-10000912       Technology   \n",
      "9799      Ohio        43615     East  TEC-AC-10000487       Technology   \n",
      "\n",
      "     Sub_Category                                       Product_Name  \n",
      "9795      Binders  Cardinal HOLDit! Binder Insert Strips,Extra St...  \n",
      "9796          Art           BIC Brite Liner Highlighters, Chisel Tip  \n",
      "9797       Phones                                        GE 30524EE4  \n",
      "9798       Phones           Anker 24W Portable Micro USB Car Charger  \n",
      "9799  Accessories                SanDisk Cruzer 4 GB USB Flash Drive  \n"
     ]
    }
   ],
   "source": [
    "print(df.shape)     # Rows, Columns\n",
    "print(df.columns)   # Column names\n",
    "print(df.info())    # Data types, null values\n",
    "print(df.head())    # First 5 rows\n",
    "print(df.tail())    # Last 5 rows\n"
   ]
  },
  {
   "cell_type": "code",
   "execution_count": null,
   "id": "38214656",
   "metadata": {},
   "outputs": [],
   "source": [
    "df[\"Order_Date\"] = pd.to_datetime(df[\"Order_Date\"], dayfirst=True, errors=\"coerce\")\n",
    "df[\"Ship_Date\"]  = pd.to_datetime(df[\"Ship_Date\"], dayfirst=True, errors=\"coerce\")\n"
   ]
  },
  {
   "cell_type": "code",
   "execution_count": null,
   "id": "e0cec66a",
   "metadata": {},
   "outputs": [
    {
     "name": "stdout",
     "output_type": "stream",
     "text": [
      "Index(['Row_ID', 'Order_ID', 'Order_Date', 'Ship_Date', 'Customer_Name',\n",
      "       'City', 'Ship_Mode', 'Customer_ID', 'Country', 'Segment', 'Sales',\n",
      "       'State', 'Postal_Code', 'Region', 'Product_ID', 'Category',\n",
      "       'Sub_Category', 'Product_Name'],\n",
      "      dtype='object')\n"
     ]
    }
   ],
   "source": [
    "print(df.columns)\n",
    "\n"
   ]
  },
  {
   "cell_type": "code",
   "execution_count": null,
   "id": "cb432ff2",
   "metadata": {},
   "outputs": [
    {
     "data": {
      "text/plain": [
       "Region\n",
       "West       710219.6845\n",
       "East       669518.7260\n",
       "Central    492646.9132\n",
       "South      389151.4590\n",
       "Name: Sales, dtype: float64"
      ]
     },
     "execution_count": 24,
     "metadata": {},
     "output_type": "execute_result"
    }
   ],
   "source": [
    "df.groupby(\"Region\")[\"Sales\"].sum().sort_values(ascending=False)\n"
   ]
  },
  {
   "cell_type": "code",
   "execution_count": null,
   "id": "4f2c1c2e",
   "metadata": {},
   "outputs": [
    {
     "data": {
      "text/plain": [
       "Category\n",
       "Technology         827455.8730\n",
       "Furniture          728658.5757\n",
       "Office Supplies    705422.3340\n",
       "Name: Sales, dtype: float64"
      ]
     },
     "execution_count": 25,
     "metadata": {},
     "output_type": "execute_result"
    }
   ],
   "source": [
    "df.groupby(\"Category\")[\"Sales\"].sum().sort_values(ascending=False)"
   ]
  },
  {
   "cell_type": "code",
   "execution_count": null,
   "id": "bbf7a925",
   "metadata": {},
   "outputs": [
    {
     "data": {
      "text/plain": [
       "Sub_Category\n",
       "Phones         327782.4480\n",
       "Chairs         322822.7310\n",
       "Storage        219343.3920\n",
       "Tables         202810.6280\n",
       "Binders        200028.7850\n",
       "Machines       189238.6310\n",
       "Accessories    164186.7000\n",
       "Copiers        146248.0940\n",
       "Bookcases      113813.1987\n",
       "Appliances     104618.4030\n",
       "Name: Sales, dtype: float64"
      ]
     },
     "execution_count": 26,
     "metadata": {},
     "output_type": "execute_result"
    }
   ],
   "source": [
    "df.groupby(\"Sub_Category\")[\"Sales\"].sum().sort_values(ascending=False).head(10)  # Top 10 sub-categories by sales"
   ]
  },
  {
   "cell_type": "code",
   "execution_count": null,
   "id": "346a16c3",
   "metadata": {},
   "outputs": [
    {
     "data": {
      "text/plain": [
       "Segment\n",
       "Consumer       1.148061e+06\n",
       "Corporate      6.884941e+05\n",
       "Home Office    4.249822e+05\n",
       "Name: Sales, dtype: float64"
      ]
     },
     "execution_count": 27,
     "metadata": {},
     "output_type": "execute_result"
    }
   ],
   "source": [
    "df.groupby(\"Segment\")[\"Sales\"].sum()\n"
   ]
  },
  {
   "cell_type": "code",
   "execution_count": null,
   "id": "17940da0",
   "metadata": {},
   "outputs": [],
   "source": [
    "df[\"Order_Date\"] = pd.to_datetime(df[\"Order_Date\"], dayfirst=True)\n"
   ]
  },
  {
   "cell_type": "code",
   "execution_count": null,
   "id": "662e3606",
   "metadata": {},
   "outputs": [
    {
     "name": "stdout",
     "output_type": "stream",
     "text": [
      "datetime64[ns]\n"
     ]
    }
   ],
   "source": [
    "print(df[\"Order_Date\"].dtype)  # should show datetime64[ns]\n"
   ]
  },
  {
   "cell_type": "code",
   "execution_count": null,
   "id": "08204edc",
   "metadata": {},
   "outputs": [
    {
     "name": "stdout",
     "output_type": "stream",
     "text": [
      "Order_Date\n",
      "2015-01-31    14205.707\n",
      "2015-02-28     4519.892\n",
      "2015-03-31    55205.797\n",
      "2015-04-30    27906.855\n",
      "2015-05-31    23644.303\n",
      "Freq: ME, Name: Sales, dtype: float64\n"
     ]
    },
    {
     "name": "stderr",
     "output_type": "stream",
     "text": [
      "C:\\Users\\ertan\\AppData\\Local\\Temp\\ipykernel_22080\\2797280263.py:1: FutureWarning: 'M' is deprecated and will be removed in a future version, please use 'ME' instead.\n",
      "  monthly_sales = df.resample(\"M\", on=\"Order_Date\")[\"Sales\"].sum()\n"
     ]
    }
   ],
   "source": [
    "monthly_sales = df.resample(\"M\", on=\"Order_Date\")[\"Sales\"].sum()\n",
    "print(monthly_sales.head())\n"
   ]
  },
  {
   "cell_type": "code",
   "execution_count": null,
   "id": "4bd3dea4",
   "metadata": {},
   "outputs": [
    {
     "name": "stdout",
     "output_type": "stream",
     "text": [
      "Order_Date\n",
      "2015-12-31    479856.2081\n",
      "2016-12-31    459436.0054\n",
      "2017-12-31    600192.5500\n",
      "2018-12-31    722052.0192\n",
      "Freq: YE-DEC, Name: Sales, dtype: float64\n"
     ]
    },
    {
     "name": "stderr",
     "output_type": "stream",
     "text": [
      "C:\\Users\\ertan\\AppData\\Local\\Temp\\ipykernel_22080\\2909630547.py:1: FutureWarning: 'Y' is deprecated and will be removed in a future version, please use 'YE' instead.\n",
      "  Yearly_sales = df.resample(\"Y\", on=\"Order_Date\")[\"Sales\"].sum()\n"
     ]
    }
   ],
   "source": [
    "Yearly_sales = df.resample(\"Y\", on=\"Order_Date\")[\"Sales\"].sum()\n",
    "print(Yearly_sales.head())"
   ]
  },
  {
   "cell_type": "code",
   "execution_count": null,
   "id": "39469b54",
   "metadata": {},
   "outputs": [
    {
     "data": {
      "image/png": "[encoded data removed]",
      "text/plain": [
       "<Figure size 1000x500 with 1 Axes>"
      ]
     },
     "metadata": {},
     "output_type": "display_data"
    },
    {
     "data": {
      "image/png": "[encoded data removed]",
      "text/plain": [
       "<Figure size 800x500 with 1 Axes>"
      ]
     },
     "metadata": {},
     "output_type": "display_data"
    }
   ],
   "source": [
    "import matplotlib.pyplot as plt\n",
    "\n",
    "monthly_sales.plot(kind=\"line\", figsize=(10,5), title=\"Monthly Sales Trend\")\n",
    "plt.show()\n",
    "\n",
    "Yearly_sales.plot(kind=\"bar\", figsize=(8,5), title=\"Yearly Sales Trend\")\n",
    "plt.show()\n"
   ]
  },
  {
   "cell_type": "code",
   "execution_count": null,
   "id": "3e903876",
   "metadata": {},
   "outputs": [
    {
     "name": "stdout",
     "output_type": "stream",
     "text": [
      "Category    Furniture  Office Supplies  Technology\n",
      "Region                                            \n",
      "Central   160317.4622       163590.243  168739.208\n",
      "East      206461.3880       199940.811  263116.527\n",
      "South     116531.4800       124424.771  148195.208\n",
      "West      245348.2455       217466.509  247404.930\n"
     ]
    }
   ],
   "source": [
    "# Sales by Region & Category\n",
    "pivot = df.pivot_table(values=\"Sales\", index=\"Region\", columns=\"Category\", aggfunc=\"sum\")\n",
    "print(pivot)\n",
    "\n",
    "#"
   ]
  },
  {
   "cell_type": "code",
   "execution_count": null,
   "id": "37fc4dd1",
   "metadata": {},
   "outputs": [
    {
     "name": "stdout",
     "output_type": "stream",
     "text": [
      "Ship_Mode    First Class   Same Day  Second Class  Standard Class\n",
      "Segment                                                          \n",
      "Consumer     158104.9470  57452.273   230125.5356     702377.7754\n",
      "Corporate    102580.0539  45121.323   139045.2908     401747.4071\n",
      "Home Office   84887.2564  22645.443    80743.3530     236706.1245\n"
     ]
    }
   ],
   "source": [
    "\n",
    "pivot2 = df.pivot_table(values=\"Sales\", index=\"Segment\", columns=\"Ship_Mode\", aggfunc=\"sum\")\n",
    "print(pivot2)\n"
   ]
  },
  {
   "cell_type": "code",
   "execution_count": null,
   "id": "2daeedd6",
   "metadata": {},
   "outputs": [
    {
     "name": "stdout",
     "output_type": "stream",
     "text": [
      "                  sum                                    mean                  \\\n",
      "Category    Furniture Office Supplies  Technology   Furniture Office Supplies   \n",
      "Region                                                                          \n",
      "Central   160317.4622      163590.243  168739.208  341.100983      116.933698   \n",
      "East      206461.3880      199940.811  263116.527  349.342450      119.940499   \n",
      "South     116531.4800      124424.771  148195.208  357.458528      126.576573   \n",
      "West      245348.2455      217466.509  247404.930  355.062584      116.917478   \n",
      "\n",
      "                      \n",
      "Category  Technology  \n",
      "Region                \n",
      "Central   413.576490  \n",
      "East      499.272347  \n",
      "South     512.786187  \n",
      "West      420.042326  \n"
     ]
    }
   ],
   "source": [
    "pivot = df.pivot_table(\n",
    "    values=\"Sales\",\n",
    "    index=\"Region\",\n",
    "    columns=\"Category\",\n",
    "    aggfunc=[\"sum\", \"mean\"]\n",
    ")\n",
    "print(pivot)\n"
   ]
  },
  {
   "cell_type": "code",
   "execution_count": null,
   "id": "5a5f2ba7",
   "metadata": {},
   "outputs": [
    {
     "name": "stdout",
     "output_type": "stream",
     "text": [
      "                    Sales\n",
      "Segment                  \n",
      "Consumer     1.148061e+06\n",
      "Corporate    6.884941e+05\n",
      "Home Office  4.249822e+05\n"
     ]
    }
   ],
   "source": [
    "pivot = df.pivot_table(values=\"Sales\", index=\"Segment\", aggfunc=\"sum\")\n",
    "print(pivot)\n"
   ]
  },
  {
   "cell_type": "code",
   "execution_count": null,
   "id": "3a933b83",
   "metadata": {},
   "outputs": [
    {
     "name": "stdout",
     "output_type": "stream",
     "text": [
      "                             sum                                    mean  \\\n",
      "Category               Furniture Office Supplies  Technology   Furniture   \n",
      "Region  Segment                                                            \n",
      "Central Consumer      86105.0130       92306.497   71799.012  344.420052   \n",
      "        Corporate     49132.5318       38672.115   64226.850  369.417532   \n",
      "        Home Office   25079.9174       32611.631   32713.346  288.274913   \n",
      "East    Consumer     113082.2880       99763.918  135060.399  378.201632   \n",
      "        Corporate     63839.3320       63686.769   68371.324  330.773741   \n",
      "        Home Office   29539.7680       36490.124   59684.804  298.381495   \n",
      "South   Consumer      70251.7760       59446.861   65003.576  399.157818   \n",
      "        Corporate     29471.8235       45050.410   46024.641  294.718235   \n",
      "        Home Office   16807.8805       19927.500   37166.991  336.157610   \n",
      "West    Consumer     118257.1810      107835.332  129148.678  321.351035   \n",
      "        Corporate     77878.0145       76721.242   65419.022  385.534725   \n",
      "        Home Office   49213.0500       32909.935   52837.230  406.719421   \n",
      "\n",
      "                                                      max                  \\\n",
      "Category            Office Supplies  Technology Furniture Office Supplies   \n",
      "Region  Segment                                                             \n",
      "Central Consumer         127.319306  337.084563  2807.840        9892.740   \n",
      "        Corporate         93.637082  558.494348  3504.900        4164.050   \n",
      "        Home Office      124.948778  408.916825  2001.860        3812.970   \n",
      "East    Consumer         114.671170  491.128724  4416.174        4663.736   \n",
      "        Corporate        126.866074  441.105316  4404.900        2934.330   \n",
      "        Home Office      123.695336  615.307258  2621.322        4355.168   \n",
      "South   Consumer         118.184614  427.655105  4297.644        6354.950   \n",
      "        Corporate        142.114858  554.513747  2275.500        4164.050   \n",
      "        Home Office      122.254601  688.277611  2573.820        1633.188   \n",
      "West    Consumer         110.713893  436.313101  3610.848        8187.650   \n",
      "        Corporate        139.240004  346.132392  2887.056        5083.960   \n",
      "        Home Office       98.238612  508.050288  2676.672        4535.976   \n",
      "\n",
      "                                     min                             \n",
      "Category            Technology Furniture Office Supplies Technology  \n",
      "Region  Segment                                                      \n",
      "Central Consumer      8159.952     1.988           0.444      2.376  \n",
      "        Corporate    17499.950     1.892           0.556      1.980  \n",
      "        Home Office   1928.780     2.032           1.408      1.980  \n",
      "East    Consumer     10499.970     3.984           0.852      7.880  \n",
      "        Corporate     9099.930     2.960           1.188      2.970  \n",
      "        Home Office  11199.968     6.696           1.640      2.970  \n",
      "South   Consumer      8749.950     2.784           1.344      1.584  \n",
      "        Corporate     7999.980     4.712           1.167      2.376  \n",
      "        Home Office  22638.480     7.040           2.816     21.800  \n",
      "West    Consumer     13999.960     3.480           1.080      5.560  \n",
      "        Corporate     4799.984     6.280           1.188      7.160  \n",
      "        Home Office   4158.912     4.180           1.408      0.990  \n"
     ]
    }
   ],
   "source": [
    "pivot = df.pivot_table(\n",
    "    values=\"Sales\",\n",
    "    index=[\"Region\", \"Segment\"],   # Multi-level rows\n",
    "    columns=\"Category\",\n",
    "    aggfunc=[\"sum\", \"mean\", \"max\", \"min\"]  # Multiple aggregation functions\n",
    ")\n",
    "print(pivot)\n"
   ]
  },
  {
   "cell_type": "code",
   "execution_count": null,
   "id": "51c6a650",
   "metadata": {},
   "outputs": [
    {
     "name": "stdout",
     "output_type": "stream",
     "text": [
      "Category    Furniture  Office Supplies  Technology         Total\n",
      "Region                                                          \n",
      "Central   160317.4622       163590.243  168739.208  4.926469e+05\n",
      "East      206461.3880       199940.811  263116.527  6.695187e+05\n",
      "South     116531.4800       124424.771  148195.208  3.891515e+05\n",
      "West      245348.2455       217466.509  247404.930  7.102197e+05\n",
      "Total     728658.5757       705422.334  827455.873  2.261537e+06\n"
     ]
    }
   ],
   "source": [
    "pivot = df.pivot_table(\n",
    "    values=\"Sales\",\n",
    "    index=\"Region\",\n",
    "    columns=\"Category\",\n",
    "    aggfunc=\"sum\",\n",
    "    margins=True,      # adds totals\n",
    "    margins_name=\"Total\"\n",
    ")\n",
    "print(pivot)\n"
   ]
  },
  {
   "cell_type": "code",
   "execution_count": null,
   "id": "1d1c2328",
   "metadata": {},
   "outputs": [
    {
     "name": "stdout",
     "output_type": "stream",
     "text": [
      "Customer_Name\n",
      "Sean Miller           25043.050\n",
      "Tamara Chand          19052.218\n",
      "Raymond Buch          15117.339\n",
      "Tom Ashbrook          14595.620\n",
      "Adrian Barton         14473.571\n",
      "Ken Lonsdale          14175.229\n",
      "Sanjit Chand          14142.334\n",
      "Hunter Lopez          12873.298\n",
      "Sanjit Engle          12209.438\n",
      "Christopher Conant    12129.072\n",
      "Name: Sales, dtype: float64\n"
     ]
    }
   ],
   "source": [
    "top_customers = (\n",
    "    df.groupby(\"Customer_Name\")[\"Sales\"]\n",
    "      .sum()\n",
    "      .sort_values(ascending=False)\n",
    "      .head(10)\n",
    ")\n",
    "print(top_customers)\n"
   ]
  },
  {
   "cell_type": "code",
   "execution_count": null,
   "id": "0ce067f2",
   "metadata": {},
   "outputs": [
    {
     "name": "stdout",
     "output_type": "stream",
     "text": [
      "Customer_Name\n",
      "Sean Miller           25043.050\n",
      "Tamara Chand          19052.218\n",
      "Raymond Buch          15117.339\n",
      "Tom Ashbrook          14595.620\n",
      "Adrian Barton         14473.571\n",
      "Ken Lonsdale          14175.229\n",
      "Sanjit Chand          14142.334\n",
      "Hunter Lopez          12873.298\n",
      "Sanjit Engle          12209.438\n",
      "Christopher Conant    12129.072\n",
      "Name: Sales, dtype: float64\n"
     ]
    }
   ],
   "source": [
    "top_customers = (\n",
    "    df.groupby(\"Customer_Name\")[\"Sales\"]\n",
    "      .sum()\n",
    "      .sort_values(ascending=False)\n",
    "      .head(10)\n",
    ")\n",
    "print(top_customers)\n"
   ]
  },
  {
   "cell_type": "code",
   "execution_count": null,
   "id": "b48131b6",
   "metadata": {},
   "outputs": [
    {
     "name": "stdout",
     "output_type": "stream",
     "text": [
      "Segment\n",
      "Consumer       1.148061e+06\n",
      "Corporate      6.884941e+05\n",
      "Home Office    4.249822e+05\n",
      "Name: Sales, dtype: float64\n"
     ]
    }
   ],
   "source": [
    "segment_sales = df.groupby(\"Segment\")[\"Sales\"].sum()\n",
    "print(segment_sales)\n"
   ]
  },
  {
   "cell_type": "code",
   "execution_count": null,
   "id": "501cbd67",
   "metadata": {},
   "outputs": [
    {
     "name": "stdout",
     "output_type": "stream",
     "text": [
      "Customer_Name\n",
      "Emily Phan             17\n",
      "Chloris Kastensmidt    13\n",
      "Joel Eaton             13\n",
      "Zuschuss Carroll       13\n",
      "Patrick Gardner        13\n",
      "Pete Kriz              12\n",
      "Ken Black              12\n",
      "Henry Goldwyn          12\n",
      "Clay Ludtke            12\n",
      "Bill Donatelli         12\n",
      "Name: Order_ID, dtype: int64\n"
     ]
    }
   ],
   "source": [
    "customer_orders = df.groupby(\"Customer_Name\")[\"Order_ID\"].nunique().sort_values(ascending=False).head(10)\n",
    "print(customer_orders)\n"
   ]
  },
  {
   "cell_type": "code",
   "execution_count": null,
   "id": "19b80cc6",
   "metadata": {},
   "outputs": [
    {
     "name": "stdout",
     "output_type": "stream",
     "text": [
      "Region   Category       \n",
      "East     Technology         263116.5270\n",
      "West     Technology         247404.9300\n",
      "         Furniture          245348.2455\n",
      "         Office Supplies    217466.5090\n",
      "East     Furniture          206461.3880\n",
      "         Office Supplies    199940.8110\n",
      "Central  Technology         168739.2080\n",
      "         Office Supplies    163590.2430\n",
      "         Furniture          160317.4622\n",
      "South    Technology         148195.2080\n",
      "         Office Supplies    124424.7710\n",
      "         Furniture          116531.4800\n",
      "Name: Sales, dtype: float64\n"
     ]
    }
   ],
   "source": [
    "region_category = (\n",
    "    df.groupby([\"Region\", \"Category\"])[\"Sales\"].sum()\n",
    "      .sort_values(ascending=False)\n",
    ")\n",
    "print(region_category)\n"
   ]
  },
  {
   "cell_type": "code",
   "execution_count": null,
   "id": "86841e78",
   "metadata": {},
   "outputs": [
    {
     "name": "stdout",
     "output_type": "stream",
     "text": [
      "Order_Date  Category       \n",
      "2015-01-31  Furniture           6217.277\n",
      "            Office Supplies     4845.140\n",
      "            Technology          3143.290\n",
      "2015-02-28  Furniture           1839.658\n",
      "            Office Supplies     1071.724\n",
      "            Technology          1608.510\n",
      "2015-03-31  Furniture          14243.368\n",
      "            Office Supplies     8602.455\n",
      "            Technology         32359.974\n",
      "2015-04-30  Furniture           7944.837\n",
      "            Office Supplies    10988.874\n",
      "            Technology          8973.144\n",
      "Name: Sales, dtype: float64\n"
     ]
    },
    {
     "name": "stderr",
     "output_type": "stream",
     "text": [
      "C:\\Users\\ertan\\AppData\\Local\\Temp\\ipykernel_22080\\3007069263.py:2: FutureWarning: 'M' is deprecated and will be removed in a future version, please use 'ME' instead.\n",
      "  df.groupby([pd.Grouper(key=\"Order_Date\", freq=\"M\"), \"Category\"])[\"Sales\"].sum()\n"
     ]
    }
   ],
   "source": [
    "monthly_category_sales = (\n",
    "    df.groupby([pd.Grouper(key=\"Order_Date\", freq=\"M\"), \"Category\"])[\"Sales\"].sum()\n",
    ")\n",
    "print(monthly_category_sales.head(12))\n"
   ]
  },
  {
   "cell_type": "code",
   "execution_count": null,
   "id": "a430655e",
   "metadata": {},
   "outputs": [
    {
     "name": "stdout",
     "output_type": "stream",
     "text": [
      "Category   Furniture                         Office Supplies             \\\n",
      "Segment     Consumer   Corporate Home Office        Consumer  Corporate   \n",
      "Region                                                                    \n",
      "Central    86105.013  49132.5318  25079.9174       92306.497  38672.115   \n",
      "East      113082.288  63839.3320  29539.7680       99763.918  63686.769   \n",
      "South      70251.776  29471.8235  16807.8805       59446.861  45050.410   \n",
      "West      118257.181  77878.0145  49213.0500      107835.332  76721.242   \n",
      "\n",
      "Category              Technology                         \n",
      "Segment  Home Office    Consumer  Corporate Home Office  \n",
      "Region                                                   \n",
      "Central    32611.631   71799.012  64226.850   32713.346  \n",
      "East       36490.124  135060.399  68371.324   59684.804  \n",
      "South      19927.500   65003.576  46024.641   37166.991  \n",
      "West       32909.935  129148.678  65419.022   52837.230  \n"
     ]
    }
   ],
   "source": [
    "pivot = df.pivot_table(\n",
    "    values=\"Sales\",\n",
    "    index=\"Region\",\n",
    "    columns=[\"Category\", \"Segment\"],   # multiple dimensions\n",
    "    aggfunc=\"sum\"\n",
    ")\n",
    "print(pivot)\n"
   ]
  },
  {
   "cell_type": "code",
   "execution_count": null,
   "id": "21822dd8",
   "metadata": {},
   "outputs": [
    {
     "name": "stdout",
     "output_type": "stream",
     "text": [
      "Category   Furniture                         Office Supplies             \\\n",
      "Segment     Consumer   Corporate Home Office        Consumer  Corporate   \n",
      "Region                                                                    \n",
      "Central    86105.013  49132.5318  25079.9174       92306.497  38672.115   \n",
      "East      113082.288  63839.3320  29539.7680       99763.918  63686.769   \n",
      "South      70251.776  29471.8235  16807.8805       59446.861  45050.410   \n",
      "West      118257.181  77878.0145  49213.0500      107835.332  76721.242   \n",
      "\n",
      "Category              Technology                         \n",
      "Segment  Home Office    Consumer  Corporate Home Office  \n",
      "Region                                                   \n",
      "Central    32611.631   71799.012  64226.850   32713.346  \n",
      "East       36490.124  135060.399  68371.324   59684.804  \n",
      "South      19927.500   65003.576  46024.641   37166.991  \n",
      "West       32909.935  129148.678  65419.022   52837.230  \n"
     ]
    }
   ],
   "source": [
    "pivot = df.pivot_table(\n",
    "    values=\"Sales\",\n",
    "    index=\"Region\",\n",
    "    columns=[\"Category\", \"Segment\"],   # multiple dimensions\n",
    "    aggfunc=\"sum\"\n",
    ")\n",
    "print(pivot)\n"
   ]
  },
  {
   "cell_type": "code",
   "execution_count": null,
   "id": "952c2e56",
   "metadata": {},
   "outputs": [
    {
     "name": "stdout",
     "output_type": "stream",
     "text": [
      "Order_Date\n",
      "2015-01-31             NaN\n",
      "2015-02-28             NaN\n",
      "2015-03-31    24643.798667\n",
      "2015-04-30    29210.848000\n",
      "2015-05-31    35585.651667\n",
      "2015-06-30    28624.697867\n",
      "2015-07-31    30582.927200\n",
      "2015-08-31    31740.671700\n",
      "2015-09-30    47507.535433\n",
      "2015-10-31    46731.485433\n",
      "2015-11-30    63661.526833\n",
      "2015-12-31    59176.037400\n",
      "Freq: ME, Name: Sales, dtype: float64\n"
     ]
    },
    {
     "name": "stderr",
     "output_type": "stream",
     "text": [
      "C:\\Users\\ertan\\AppData\\Local\\Temp\\ipykernel_22080\\355356758.py:1: FutureWarning: 'M' is deprecated and will be removed in a future version, please use 'ME' instead.\n",
      "  monthly_sales = df.resample(\"M\", on=\"Order_Date\")[\"Sales\"].sum()\n"
     ]
    },
    {
     "data": {
      "image/png": "[encoded data removed]",
      "text/plain": [
       "<Figure size 1000x500 with 1 Axes>"
      ]
     },
     "metadata": {},
     "output_type": "display_data"
    }
   ],
   "source": [
    "monthly_sales = df.resample(\"M\", on=\"Order_Date\")[\"Sales\"].sum()\n",
    "rolling_avg = monthly_sales.rolling(3).mean()   # 3-month moving average\n",
    "\n",
    "\n",
    "print(rolling_avg.head(12))\n",
    "rolling_avg.plot(kind=\"line\", figsize=(10,5), title=\"3-Month Rolling Average of Monthly Sales\")\n",
    "plt.show()\n",
    "import matplotlib.pyplot as plt   "
   ]
  },
  {
   "cell_type": "code",
   "execution_count": null,
   "id": "0220e56e",
   "metadata": {},
   "outputs": [
    {
     "data": {
      "image/png": "[encoded data removed]",
      "text/plain": [
       "<Figure size 1200x600 with 1 Axes>"
      ]
     },
     "metadata": {},
     "output_type": "display_data"
    }
   ],
   "source": [
    "import matplotlib.pyplot as plt\n",
    "\n",
    "plt.figure(figsize=(12,6))\n",
    "monthly_sales.plot(label=\"Monthly Sales\", color=\"blue\")\n",
    "rolling_avg.plot(label=\"3-Month Rolling Avg\", color=\"red\", linewidth=2)\n",
    "plt.legend()\n",
    "plt.title(\"Monthly Sales vs 3-Month Rolling Average\")\n",
    "plt.show()\n"
   ]
  },
  {
   "cell_type": "code",
   "execution_count": null,
   "id": "e76985ba",
   "metadata": {},
   "outputs": [
    {
     "name": "stdout",
     "output_type": "stream",
     "text": [
      "Order_Date\n",
      "2015    39746.518020\n",
      "2016    38005.922000\n",
      "2017    48732.486503\n",
      "2018    59797.273967\n",
      "Name: Sales, dtype: float64\n",
      "The best year was 2018 with avg rolling sales of 59797.27\n"
     ]
    },
    {
     "name": "stderr",
     "output_type": "stream",
     "text": [
      "C:\\Users\\ertan\\AppData\\Local\\Temp\\ipykernel_22080\\700132699.py:1: FutureWarning: 'M' is deprecated and will be removed in a future version, please use 'ME' instead.\n",
      "  monthly_sales = df.resample(\"M\", on=\"Order_Date\")[\"Sales\"].sum()\n"
     ]
    }
   ],
   "source": [
    "monthly_sales = df.resample(\"M\", on=\"Order_Date\")[\"Sales\"].sum()\n",
    "rolling_avg = monthly_sales.rolling(3).mean()\n",
    "\n",
    "yearly_trend = rolling_avg.groupby(rolling_a   vg.index.year).mean()\n",
    "print(yearly_trend)\n",
    "\n",
    "\n",
    "best_year = yearly_trend.idxmax()   # year\n",
    "best_value = yearly_trend.max()     # value\n",
    "print(f\"The best year was {best_year} with avg rolling sales of {best_value:.2f}\")\n"
   ]
  },
  {
   "cell_type": "code",
   "execution_count": 1,
   "id": "900feebe",
   "metadata": {},
   "outputs": [
    {
     "ename": "AttributeError",
     "evalue": "module 'pandas' has no attribute 'read_excel'",
     "output_type": "error",
     "traceback": [
      "\u001b[31m---------------------------------------------------------------------------\u001b[39m",
      "\u001b[31mAttributeError\u001b[39m                            Traceback (most recent call last)",
      "\u001b[36mCell\u001b[39m\u001b[36m \u001b[39m\u001b[32mIn[1]\u001b[39m\u001b[32m, line 2\u001b[39m\n\u001b[32m      1\u001b[39m \u001b[38;5;28;01mimport\u001b[39;00m \u001b[34;01mpandas\u001b[39;00m \u001b[38;5;28;01mas\u001b[39;00m \u001b[34;01mpd\u001b[39;00m\n\u001b[32m----> \u001b[39m\u001b[32m2\u001b[39m df = \u001b[43mpd\u001b[49m\u001b[43m.\u001b[49m\u001b[43mread_excel\u001b[49m(\u001b[33m\"\u001b[39m\u001b[33mC:/Users/ertan/sem 5 ki backchodi/important notes/Product-Sales-Region.xlsx\u001b[39m\u001b[33m\"\u001b[39m)\n\u001b[32m      3\u001b[39m df.head()\n",
      "\u001b[31mAttributeError\u001b[39m: module 'pandas' has no attribute 'read_excel'"
     ]
    }
   ],
   "source": [
    "import pandas as pd\n",
    "df = pd.read_excel(\"C:/Users/ertan/sem 5 ki backchodi/important notes/Product-Sales-Region.xlsx\")\n",
    "df.head()\n"
   ]
  }
 ],
 "metadata": {
  "kernelspec": {
   "display_name": "base",
   "language": "python",
   "name": "python3"
  },
  "language_info": {
   "codemirror_mode": {
    "name": "ipython",
    "version": 3
   },
   "file_extension": ".py",
   "mimetype": "text/x-python",
   "name": "python",
   "nbconvert_exporter": "python",
   "pygments_lexer": "ipython3",
   "version": "3.12.7"
  }
 },
 "nbformat": 4,
 "nbformat_minor": 5
}
